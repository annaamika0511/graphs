{
 "cells": [
  {
   "cell_type": "code",
   "execution_count": 58,
   "metadata": {},
   "outputs": [],
   "source": [
    "from heapq import heappush, heappop\n",
    "from random import shuffle\n",
    "import time\n",
    "import random"
   ]
  },
  {
   "cell_type": "code",
   "execution_count": 59,
   "metadata": {},
   "outputs": [],
   "source": [
    "class Solver:\n",
    "  def __init__(self, initial_state=None):\n",
    "    self.initial_state = State(initial_state)\n",
    "    self.goal = range(1, 9)"
   ]
  },
  {
   "cell_type": "code",
   "execution_count": 60,
   "metadata": {},
   "outputs": [],
   "source": [
    "def _rebuildPath(self, end):\n",
    "    path = [end]\n",
    "    state = end.parent\n",
    "    while state.parent:\n",
    "      path.append(state)\n",
    "      state = state.parent\n",
    "    return path\n"
   ]
  },
  {
   "cell_type": "code",
   "execution_count": 61,
   "metadata": {},
   "outputs": [],
   "source": [
    "def solve(self):\n",
    "    openset = PriorityQueue()\n",
    "    openset.add(self.initial_state)\n",
    "    closed = set()\n",
    "    moves = 0\n",
    "    print ('trying to solve:')\n",
    "    print (openset.peek(), '\\n\\n')\n",
    "    start = time.time()\n",
    "    while openset:\n",
    "      current = openset.poll()\n",
    "      if current.values[:-1] == self.goal:\n",
    "        end = time.time()\n",
    "        print ('solution found')\n",
    "        path = self._rebuildPath(current)\n",
    "        for state in reversed(path):\n",
    "          print (state)\n",
    "          print\n",
    "        print ('resolved with %d movements' % len(path))\n",
    "        print ('solution in %2.f seconds' % float(end - start))\n",
    "        break\n",
    "      moves += 1\n",
    "      for state in current.possible_moves(moves):\n",
    "        if state not in closed:\n",
    "          openset.add(state)\n",
    "      closed.add(current)\n",
    "    else:\n",
    "      print ('cant solve it')"
   ]
  },
  {
   "cell_type": "code",
   "execution_count": 62,
   "metadata": {},
   "outputs": [],
   "source": [
    "class State:\n",
    "  def __init__(self, values, moves=0, parent=None):\n",
    "    self.values = values\n",
    "    self.moves = moves\n",
    "    self.parent = parent\n",
    "    self.goal = range(1, 9)"
   ]
  },
  {
   "cell_type": "code",
   "execution_count": 63,
   "metadata": {},
   "outputs": [],
   "source": [
    " def possible_moves(self, moves):\n",
    "    i = self.values.index(0)\n",
    "    if i in [3, 4, 5, 6, 7, 8]:\n",
    "      new_board = self.values[:]\n",
    "      new_board[i], new_board[i - 3] = new_board[i - 3], new_board[i]\n",
    "      yield State(new_board, moves, self)\n",
    "    if i in [1, 2, 4, 5, 7, 8]:\n",
    "      new_board = self.values[:]\n",
    "      new_board[i], new_board[i - 1] = new_board[i - 1], new_board[i]\n",
    "      yield State(new_board, moves, self)\n",
    "    if i in [0, 1, 3, 4, 6, 7]:\n",
    "      new_board = self.values[:]\n",
    "      new_board[i], new_board[i + 1] = new_board[i + 1], new_board[i]\n",
    "      yield State(new_board, moves, self)\n",
    "    if i in [0, 1, 2, 3, 4, 5]:\n",
    "      new_board = self.values[:]\n",
    "      new_board[i], new_board[i + 3] = new_board[i + 3], new_board[i]\n",
    "      yield State(new_board, moves, self)"
   ]
  },
  {
   "cell_type": "code",
   "execution_count": 64,
   "metadata": {},
   "outputs": [],
   "source": [
    "def score(self):\n",
    "    return self._h() + self._g()"
   ]
  },
  {
   "cell_type": "code",
   "execution_count": 65,
   "metadata": {},
   "outputs": [],
   "source": [
    " def _h(self):\n",
    "    return sum([1 if self.values[i] != self.goal[i] else 0 for i in xrange(8)])"
   ]
  },
  {
   "cell_type": "code",
   "execution_count": 66,
   "metadata": {},
   "outputs": [],
   "source": [
    "def _g(self):\n",
    "    return self.moves"
   ]
  },
  {
   "cell_type": "code",
   "execution_count": 67,
   "metadata": {},
   "outputs": [],
   "source": [
    "def __cmp__(self, other):\n",
    "    return self.values == other.values"
   ]
  },
  {
   "cell_type": "code",
   "execution_count": 68,
   "metadata": {},
   "outputs": [],
   "source": [
    "def __eq__(self, other):\n",
    "    return self.__cmp__(other)\n"
   ]
  },
  {
   "cell_type": "code",
   "execution_count": 69,
   "metadata": {},
   "outputs": [],
   "source": [
    "def __hash__(self):\n",
    "    return hash(str(self.values))"
   ]
  },
  {
   "cell_type": "code",
   "execution_count": 70,
   "metadata": {},
   "outputs": [],
   "source": [
    "def __lt__(self, other):\n",
    "    return self.score() < other.score()"
   ]
  },
  {
   "cell_type": "code",
   "execution_count": 71,
   "metadata": {},
   "outputs": [],
   "source": [
    " def __str__(self):\n",
    "    return '\\n'.join([str(self.values[:3]),\n",
    "        str(self.values[3:6]),\n",
    "        str(self.values[6:9])]).replace('[', '').replace(']', '').replace(',', '').replace('0', 'x')\n"
   ]
  },
  {
   "cell_type": "code",
   "execution_count": 72,
   "metadata": {},
   "outputs": [],
   "source": [
    "class PriorityQueue:\n",
    "  def __init__(self):\n",
    "    self.pq = []"
   ]
  },
  {
   "cell_type": "code",
   "execution_count": 73,
   "metadata": {},
   "outputs": [],
   "source": [
    " def add(self, item):\n",
    "    heappush(self.pq, item)"
   ]
  },
  {
   "cell_type": "code",
   "execution_count": 74,
   "metadata": {},
   "outputs": [],
   "source": [
    "def poll(self):\n",
    "    return heappop(self.pq)"
   ]
  },
  {
   "cell_type": "code",
   "execution_count": 75,
   "metadata": {},
   "outputs": [],
   "source": [
    "def peek(self):\n",
    "    return self.pq[0]"
   ]
  },
  {
   "cell_type": "code",
   "execution_count": 76,
   "metadata": {},
   "outputs": [],
   "source": [
    " def remove(self, item):\n",
    "    value = self.pq.remove(item)\n",
    "    heapify(self.pq)\n",
    "    return value is not None"
   ]
  },
  {
   "cell_type": "code",
   "execution_count": 77,
   "metadata": {},
   "outputs": [],
   "source": [
    "def __len__(self):\n",
    "    return len(self.pq)"
   ]
  },
  {
   "cell_type": "code",
   "execution_count": 78,
   "metadata": {},
   "outputs": [],
   "source": [
    "puzzle = range(9)\n",
    "shuffle(list(puzzle))\n",
    "#puzzle = [1, 7, 4, 6, 8, 3, 2, 5, 0]\n",
    "solver = Solver(puzzle)"
   ]
  },
  {
   "cell_type": "code",
   "execution_count": 80,
   "metadata": {},
   "outputs": [
    {
     "ename": "AttributeError",
     "evalue": "'Solver' object has no attribute 'solve'",
     "output_type": "error",
     "traceback": [
      "\u001b[1;31m---------------------------------------------------------------------------\u001b[0m",
      "\u001b[1;31mAttributeError\u001b[0m                            Traceback (most recent call last)",
      "\u001b[1;32m<ipython-input-80-933f845af91b>\u001b[0m in \u001b[0;36m<module>\u001b[1;34m()\u001b[0m\n\u001b[0;32m      1\u001b[0m \u001b[0msolver\u001b[0m \u001b[1;33m=\u001b[0m \u001b[0mSolver\u001b[0m\u001b[1;33m(\u001b[0m\u001b[0mpuzzle\u001b[0m\u001b[1;33m)\u001b[0m\u001b[1;33m\u001b[0m\u001b[0m\n\u001b[1;32m----> 2\u001b[1;33m \u001b[0msolver\u001b[0m\u001b[1;33m.\u001b[0m\u001b[0msolve\u001b[0m\u001b[1;33m(\u001b[0m\u001b[1;33m)\u001b[0m\u001b[1;33m\u001b[0m\u001b[0m\n\u001b[0m",
      "\u001b[1;31mAttributeError\u001b[0m: 'Solver' object has no attribute 'solve'"
     ]
    }
   ],
   "source": [
    "solver = Solver(puzzle)\n",
    "solver.solve()"
   ]
  },
  {
   "cell_type": "code",
   "execution_count": null,
   "metadata": {},
   "outputs": [],
   "source": []
  }
 ],
 "metadata": {
  "kernelspec": {
   "display_name": "Python 3",
   "language": "python",
   "name": "python3"
  },
  "language_info": {
   "codemirror_mode": {
    "name": "ipython",
    "version": 3
   },
   "file_extension": ".py",
   "mimetype": "text/x-python",
   "name": "python",
   "nbconvert_exporter": "python",
   "pygments_lexer": "ipython3",
   "version": "3.7.0"
  }
 },
 "nbformat": 4,
 "nbformat_minor": 2
}
