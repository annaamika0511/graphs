{
 "cells": [
  {
   "cell_type": "markdown",
   "metadata": {},
   "source": [
    "# Code to create Graph "
   ]
  },
  {
   "cell_type": "code",
   "execution_count": 1,
   "metadata": {},
   "outputs": [],
   "source": [
    "graph = {}\n",
    "\n",
    "def CreateVertex(ver):\n",
    "    graph['{}'.format(ver)]=[]\n",
    "\n",
    "def CreateEdge(graph,ver1,ver2):\n",
    "    graph.get('{}'.format(ver1)).append('{}'.format(ver2))\n",
    "    graph.get('{}'.format(ver2)).append('{}'.format(ver1))\n",
    "    "
   ]
  },
  {
   "cell_type": "code",
   "execution_count": 2,
   "metadata": {},
   "outputs": [],
   "source": [
    "CreateVertex('1')\n",
    "CreateVertex('2')\n",
    "CreateVertex('3')\n",
    "CreateVertex('4')\n",
    "CreateVertex('5')\n",
    "CreateVertex('6')\n",
    "CreateVertex('7')\n",
    "CreateVertex('9')\n",
    "CreateVertex('10')\n",
    "CreateEdge(graph,'1','2')\n",
    "CreateEdge(graph,'1','4')\n",
    "CreateEdge(graph,'2','3')\n",
    "CreateEdge(graph,'3','4')\n",
    "CreateEdge(graph,'3','10')\n",
    "CreateEdge(graph,'3','9')\n",
    "CreateEdge(graph,'5','7')\n",
    "CreateEdge(graph,'5','6')\n",
    "CreateEdge(graph,'2','5')\n",
    "CreateEdge(graph,'2','7')"
   ]
  },
  {
   "cell_type": "markdown",
   "metadata": {},
   "source": [
    "# BFS "
   ]
  },
  {
   "cell_type": "code",
   "execution_count": 3,
   "metadata": {},
   "outputs": [],
   "source": [
    "# Code for BFS traversing\n",
    "visited = []  # a list for visited vertices/final list\n",
    "exploreQueue = [] # list for vertex in exploration\n",
    "def BFS(graph,v):\n",
    "    global visited,exploreQueue\n",
    "    visited.append(v)\n",
    "    exploreQueue.extend(sorted(graph.get(v)))\n",
    "    for x in exploreQueue:\n",
    "        if x not in visited:\n",
    "            BFS(graph,x)\n",
    "    "
   ]
  },
  {
   "cell_type": "markdown",
   "metadata": {},
   "source": [
    "# DFS"
   ]
  },
  {
   "cell_type": "code",
   "execution_count": 4,
   "metadata": {},
   "outputs": [],
   "source": [
    "visited = []\n",
    "exploreStack = []\n",
    "def DFS(graph,v):\n",
    "    \n",
    "    global visited,exploreStack\n",
    "    \n",
    "    if v not in visited:\n",
    "        visited.append(v)\n",
    "    if v not in exploreStack:\n",
    "        exploreStack.append(v)\n",
    "    \n",
    "    for x in sorted(graph.get(v)):\n",
    "        if x in visited and graph.get(v).index(x) == -1:\n",
    "            exploreStack.pop()\n",
    "            if len(exploreStack) == 0:\n",
    "                break\n",
    "            else:\n",
    "                v = exploreStack[-1]\n",
    "                DFS(graph,v)\n",
    "        else:\n",
    "            if x not in visited:\n",
    "                print\n",
    "                DFS(graph,x)"
   ]
  },
  {
   "cell_type": "code",
   "execution_count": 5,
   "metadata": {},
   "outputs": [],
   "source": [
    "DFS(graph,'1')"
   ]
  },
  {
   "cell_type": "code",
   "execution_count": 6,
   "metadata": {},
   "outputs": [
    {
     "data": {
      "text/plain": [
       "['1', '2', '3', '10', '4', '9', '5', '6', '7']"
      ]
     },
     "execution_count": 6,
     "metadata": {},
     "output_type": "execute_result"
    }
   ],
   "source": [
    "visited"
   ]
  },
  {
   "cell_type": "code",
   "execution_count": 7,
   "metadata": {},
   "outputs": [
    {
     "data": {
      "text/plain": [
       "['10', '8', '9']"
      ]
     },
     "execution_count": 7,
     "metadata": {},
     "output_type": "execute_result"
    }
   ],
   "source": [
    "sorted(['10','9','8'])"
   ]
  },
  {
   "cell_type": "code",
   "execution_count": null,
   "metadata": {},
   "outputs": [],
   "source": []
  },
  {
   "cell_type": "code",
   "execution_count": null,
   "metadata": {},
   "outputs": [],
   "source": []
  }
 ],
 "metadata": {
  "kernelspec": {
   "display_name": "Python 3",
   "language": "python",
   "name": "python3"
  },
  "language_info": {
   "codemirror_mode": {
    "name": "ipython",
    "version": 3
   },
   "file_extension": ".py",
   "mimetype": "text/x-python",
   "name": "python",
   "nbconvert_exporter": "python",
   "pygments_lexer": "ipython3",
   "version": "3.7.0"
  }
 },
 "nbformat": 4,
 "nbformat_minor": 2
}
